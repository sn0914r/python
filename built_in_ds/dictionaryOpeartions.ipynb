{
 "cells": [
  {
   "cell_type": "markdown",
   "metadata": {},
   "source": [
    "## Dictionary methods\n",
    "1. .get(key) -> it returns the value if key exists otherwise none, we can pass what to return if key doesn't exist, as the 2nd arg.\n",
    "\n",
    "2. .pop(key) -> removes the property and returns the key's value. if key doesn't exist then it returns keyError, to avoid errors we can pass an additional value as 2nd arg and it returns that 2nd arg if key doesn't found.\n",
    "\n",
    "3. del dictionary[key] -> deletes the property from the dictionary, raises keyError if it doesn't exist\n",
    "\n",
    "4. .clear() -> removes all elements in the dictionary\n",
    "\n",
    "5. .key() -> returns all keys in the dictionary as a list\n",
    "\n",
    "6. .values() -> returns all values in the dictionary as a list\n",
    "\n",
    "7. .items() -> returns all key-value pairs as list of tuples(having keys and values)\n",
    "\n",
    "8. dict1.update(dict2) -> merges the dict1 and dict2\n"
   ]
  },
  {
   "cell_type": "code",
   "execution_count": 1,
   "metadata": {},
   "outputs": [],
   "source": [
    "y = {\"a\" : 1, \"b\" : 2, \"c\" : 3}\n",
    "z = {\"d\" : 4, \"e\" : 5, \"f\" : 6}"
   ]
  },
  {
   "cell_type": "code",
   "execution_count": 2,
   "metadata": {},
   "outputs": [
    {
     "name": "stdout",
     "output_type": "stream",
     "text": [
      "1\n",
      "key doesn't exist\n"
     ]
    }
   ],
   "source": [
    "print(y.get(\"a\"))\n",
    "print(y.get(\"f\", \"key doesn't exist\"))"
   ]
  },
  {
   "cell_type": "code",
   "execution_count": 3,
   "metadata": {},
   "outputs": [
    {
     "name": "stdout",
     "output_type": "stream",
     "text": [
      "3\n",
      "key not found\n",
      "Error\n",
      "{'a': 1, 'b': 2}\n"
     ]
    }
   ],
   "source": [
    "print(y.pop(\"c\"))\n",
    "print(y.pop(\"g\", \"key not found\"))\n",
    "\n",
    "try:\n",
    "    y.pop(\"g\")\n",
    "except:\n",
    "    print(\"Error\")\n",
    "\n",
    "print(y)"
   ]
  },
  {
   "cell_type": "code",
   "execution_count": 4,
   "metadata": {},
   "outputs": [
    {
     "name": "stdout",
     "output_type": "stream",
     "text": [
      "error, already removed\n",
      "{'a': 1}\n"
     ]
    }
   ],
   "source": [
    "del y[\"b\"]\n",
    "\n",
    "try:\n",
    "    del y[\"b\"]\n",
    "except:\n",
    "    print(\"error, already removed\")\n",
    "\n",
    "print(y)"
   ]
  },
  {
   "cell_type": "code",
   "execution_count": 5,
   "metadata": {},
   "outputs": [
    {
     "name": "stdout",
     "output_type": "stream",
     "text": [
      "dict_keys(['d', 'e', 'f'])\n",
      "dict_values([4, 5, 6])\n",
      "dict_items([('d', 4), ('e', 5), ('f', 6)])\n"
     ]
    }
   ],
   "source": [
    "print(z.keys())\n",
    "print(z.values())\n",
    "print(z.items())"
   ]
  },
  {
   "cell_type": "code",
   "execution_count": 6,
   "metadata": {},
   "outputs": [
    {
     "name": "stdout",
     "output_type": "stream",
     "text": [
      "{'a': 1, 'd': 4, 'e': 5, 'f': 6}\n"
     ]
    }
   ],
   "source": [
    "y.update(z)\n",
    "print(y)"
   ]
  },
  {
   "cell_type": "code",
   "execution_count": 7,
   "metadata": {},
   "outputs": [
    {
     "name": "stdout",
     "output_type": "stream",
     "text": [
      "{}\n"
     ]
    }
   ],
   "source": [
    "y.clear()\n",
    "print(y)"
   ]
  }
 ],
 "metadata": {
  "kernelspec": {
   "display_name": "Python 3",
   "language": "python",
   "name": "python3"
  },
  "language_info": {
   "codemirror_mode": {
    "name": "ipython",
    "version": 3
   },
   "file_extension": ".py",
   "mimetype": "text/x-python",
   "name": "python",
   "nbconvert_exporter": "python",
   "pygments_lexer": "ipython3",
   "version": "3.13.2"
  }
 },
 "nbformat": 4,
 "nbformat_minor": 2
}
