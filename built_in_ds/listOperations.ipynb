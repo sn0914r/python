{
 "cells": [
  {
   "cell_type": "markdown",
   "metadata": {},
   "source": [
    "## List Operations\n",
    "1. append(e) -> adds an elemnt at the ending.\n",
    "\n",
    "2. extends([x, y, z]) -> adds multiple elements, takes a list (or) tuple of elemnts as arguments\n",
    "\n",
    "3. insert(index, elemnt) -> inserts elment at specific index\n",
    "\n",
    "4. remove(e) -> removes the first occurrence of e and retuns ValueError if e doesn't exist in the list.\n",
    "\n",
    "5. pop() -> removes and returns elemnt at last\n",
    "\n",
    "6. sort() -> sorts elements in ascending order\n",
    "\n",
    "7. reverse() -> reverses the list\n",
    "\n",
    "8. clear() -> removes all elemts in list"
   ]
  },
  {
   "cell_type": "code",
   "execution_count": 1,
   "metadata": {},
   "outputs": [],
   "source": [
    "x = [1,2,3,38,393]"
   ]
  },
  {
   "cell_type": "code",
   "execution_count": 2,
   "metadata": {},
   "outputs": [
    {
     "name": "stdout",
     "output_type": "stream",
     "text": [
      "[1, 2, 3, 38, 393, 'hello']\n"
     ]
    }
   ],
   "source": [
    "x.append(\"hello\")\n",
    "print(x)"
   ]
  },
  {
   "cell_type": "code",
   "execution_count": 3,
   "metadata": {},
   "outputs": [
    {
     "name": "stdout",
     "output_type": "stream",
     "text": [
      "[1, 2, 3, 38, 393, 'hello', 100, 200, 300]\n"
     ]
    }
   ],
   "source": [
    "x.extend([100, 200, 300])\n",
    "print(x)"
   ]
  },
  {
   "cell_type": "code",
   "execution_count": 4,
   "metadata": {},
   "outputs": [
    {
     "name": "stdout",
     "output_type": "stream",
     "text": [
      "[1, 2, 3, 4, 38, 393, 'hello', 100, 200, 300]\n"
     ]
    }
   ],
   "source": [
    "x.insert(3, 4)\n",
    "print(x)"
   ]
  },
  {
   "cell_type": "code",
   "execution_count": 5,
   "metadata": {},
   "outputs": [
    {
     "name": "stdout",
     "output_type": "stream",
     "text": [
      "[1, 2, 3, 4, 38, 393, 100, 200, 300]\n"
     ]
    }
   ],
   "source": [
    "x.remove(\"hello\")\n",
    "print(x)"
   ]
  },
  {
   "cell_type": "code",
   "execution_count": 6,
   "metadata": {},
   "outputs": [
    {
     "name": "stdout",
     "output_type": "stream",
     "text": [
      "last element i.e 300 is removed\n",
      "[1, 2, 3, 4, 38, 393, 100, 200]\n"
     ]
    }
   ],
   "source": [
    "print(f\"last element i.e {x.pop()} is removed\")\n",
    "print(x)"
   ]
  },
  {
   "cell_type": "code",
   "execution_count": 7,
   "metadata": {},
   "outputs": [
    {
     "name": "stdout",
     "output_type": "stream",
     "text": [
      "[1, 2, 3, 4, 38, 100, 200, 393]\n"
     ]
    }
   ],
   "source": [
    "x.sort()\n",
    "print(x)"
   ]
  },
  {
   "cell_type": "code",
   "execution_count": 8,
   "metadata": {},
   "outputs": [
    {
     "name": "stdout",
     "output_type": "stream",
     "text": [
      "[393, 200, 100, 38, 4, 3, 2, 1]\n"
     ]
    }
   ],
   "source": [
    "x.reverse()\n",
    "print(x)"
   ]
  },
  {
   "cell_type": "code",
   "execution_count": 9,
   "metadata": {},
   "outputs": [
    {
     "name": "stdout",
     "output_type": "stream",
     "text": [
      "[]\n"
     ]
    }
   ],
   "source": [
    "x.clear()\n",
    "print(x)"
   ]
  }
 ],
 "metadata": {
  "kernelspec": {
   "display_name": "Python 3",
   "language": "python",
   "name": "python3"
  },
  "language_info": {
   "codemirror_mode": {
    "name": "ipython",
    "version": 3
   },
   "file_extension": ".py",
   "mimetype": "text/x-python",
   "name": "python",
   "nbconvert_exporter": "python",
   "pygments_lexer": "ipython3",
   "version": "3.13.2"
  }
 },
 "nbformat": 4,
 "nbformat_minor": 2
}
